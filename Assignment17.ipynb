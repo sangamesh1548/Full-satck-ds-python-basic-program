{
 "cells": [
  {
   "cell_type": "markdown",
   "metadata": {},
   "source": [
    "Question1. Create a function that takes three arguments a, b, c and returns the sum of the\n",
    "numbers that are evenly divided by c from the range a, b"
   ]
  },
  {
   "cell_type": "code",
   "execution_count": 45,
   "metadata": {},
   "outputs": [
    {
     "name": "stdout",
     "output_type": "stream",
     "text": [
      "30\n",
      "0\n",
      "18\n"
     ]
    }
   ],
   "source": [
    "def evenly_divisible(n,n1,n2):\n",
    "    sum1=0\n",
    "    for  i in range(0,n1+1,n2):\n",
    "        if i%n2==0:\n",
    "            sum1+=i\n",
    "    return sum1\n",
    "\n",
    "\n",
    "\n",
    "a=evenly_divisible(1, 10, 2)\n",
    "print(a)\n",
    "b=evenly_divisible(1, 10, 20)\n",
    "print(b)\n",
    "c=evenly_divisible(1, 10, 3)\n",
    "print(c)"
   ]
  },
  {
   "cell_type": "markdown",
   "metadata": {},
   "source": [
    "Question2. Create a function that returns True if a given inequality expression is correct and\n",
    "False otherwise."
   ]
  },
  {
   "cell_type": "code",
   "execution_count": 105,
   "metadata": {},
   "outputs": [
    {
     "name": "stdout",
     "output_type": "stream",
     "text": [
      "True\n",
      "False\n",
      "True\n"
     ]
    }
   ],
   "source": [
    "def correct_signs(n): \n",
    "    return eval(n)\n",
    "            \n",
    "        \n",
    "a=correct_signs(\"3 < 7 < 11\")\n",
    "print(a)\n",
    "b=correct_signs(\"13 > 44 > 33 > 1\")\n",
    "print(b)\n",
    "c=correct_signs(\"1 < 2 < 6 < 9 > 3\")\n",
    "print(c)"
   ]
  },
  {
   "cell_type": "markdown",
   "metadata": {},
   "source": [
    "Question3. Create a function that replaces all the vowels in a string with a specified character."
   ]
  },
  {
   "cell_type": "code",
   "execution_count": 41,
   "metadata": {},
   "outputs": [
    {
     "name": "stdout",
     "output_type": "stream",
     "text": [
      "th# ##rdv#rk\n",
      "sh*k*sp**r*\n"
     ]
    }
   ],
   "source": [
    "def replace(test, n):\n",
    "    s = 'aeiou'\n",
    "    for i in s:\n",
    "        test=test.replace(i, n)\n",
    "  \n",
    "    return test\n",
    "  \n",
    "  \n",
    "    \n",
    "a=replace('the aardvark','#')\n",
    "print(a)\n",
    "b=replace('shakespeare','*')\n",
    "print(b)"
   ]
  },
  {
   "cell_type": "code",
   "execution_count": 3,
   "metadata": {},
   "outputs": [
    {
     "name": "stdout",
     "output_type": "stream",
     "text": [
      "120\n",
      "6\n",
      "1\n",
      "1\n"
     ]
    }
   ],
   "source": [
    "\n",
    "def factorial(n):\n",
    "        if n==0:\n",
    "            return 1\n",
    "        elif n==1:\n",
    "            return 1\n",
    "        else:\n",
    "            return (n * factorial(n - 1))\n",
    "        \n",
    "\n",
    "a=factorial(5)\n",
    "print(a)\n",
    "       \n",
    "b=factorial(3)\n",
    "print(b)\n",
    "       \n",
    "c=factorial(1)\n",
    "print(c)\n",
    "       \n",
    "d=factorial(0)\n",
    "print(d)"
   ]
  },
  {
   "cell_type": "markdown",
   "metadata": {},
   "source": [
    "Hamming distance is the number of characters that differ between two strings.\n",
    "To illustrate:\n",
    "String1: &quot;abcbba&quot;\n",
    "String2: &quot;abcbda&quot;\n",
    "Hamming Distance: 1 - &quot;b&quot; vs. &quot;d&quot; is the only difference.\n",
    "Create a function that computes the hamming distance between two strings."
   ]
  },
  {
   "cell_type": "code",
   "execution_count": 40,
   "metadata": {},
   "outputs": [
    {
     "name": "stdout",
     "output_type": "stream",
     "text": [
      "5\n",
      "0\n",
      "1\n"
     ]
    }
   ],
   "source": [
    "def hamming_distance(a,b):\n",
    "    string1=list(a)\n",
    "    string2=list(b)\n",
    "    count=0\n",
    "    for i in range(0,len(a)):\n",
    "        if string1[i]!=string2[i]:\n",
    "            count+=1\n",
    "    return count\n",
    "            \n",
    "    \n",
    "            \n",
    "\n",
    "        \n",
    "    \n",
    "\n",
    "\n",
    "\n",
    "a=hamming_distance(\"abcde\", \"bcdef\")\n",
    "print(a)\n",
    "b=hamming_distance(\"abcde\", \"abcde\")\n",
    "print(b)\n",
    "c=hamming_distance(\"strong\", \"strung\")\n",
    "print(c)"
   ]
  },
  {
   "cell_type": "code",
   "execution_count": null,
   "metadata": {},
   "outputs": [],
   "source": []
  }
 ],
 "metadata": {
  "kernelspec": {
   "display_name": "Python 3",
   "language": "python",
   "name": "python3"
  },
  "language_info": {
   "codemirror_mode": {
    "name": "ipython",
    "version": 3
   },
   "file_extension": ".py",
   "mimetype": "text/x-python",
   "name": "python",
   "nbconvert_exporter": "python",
   "pygments_lexer": "ipython3",
   "version": "3.8.5"
  }
 },
 "nbformat": 4,
 "nbformat_minor": 4
}

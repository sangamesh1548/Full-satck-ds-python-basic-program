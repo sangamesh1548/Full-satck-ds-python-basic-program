{
 "cells": [
  {
   "cell_type": "markdown",
   "metadata": {},
   "source": [
    "1. Write a Python program to Extract Unique values dictionary values?"
   ]
  },
  {
   "cell_type": "code",
   "execution_count": 6,
   "metadata": {},
   "outputs": [
    {
     "ename": "NameError",
     "evalue": "name 'unique' is not defined",
     "output_type": "error",
     "traceback": [
      "\u001b[1;31m---------------------------------------------------------------------------\u001b[0m",
      "\u001b[1;31mNameError\u001b[0m                                 Traceback (most recent call last)",
      "\u001b[1;32m<ipython-input-6-da68144e7313>\u001b[0m in \u001b[0;36m<module>\u001b[1;34m\u001b[0m\n\u001b[0;32m     18\u001b[0m \u001b[1;33m\u001b[0m\u001b[0m\n\u001b[0;32m     19\u001b[0m \u001b[1;33m\u001b[0m\u001b[0m\n\u001b[1;32m---> 20\u001b[1;33m \u001b[0ma\u001b[0m\u001b[1;33m=\u001b[0m\u001b[0munique\u001b[0m\u001b[1;33m(\u001b[0m\u001b[1;33m{\u001b[0m\u001b[1;34m\"A\"\u001b[0m\u001b[1;33m:\u001b[0m\u001b[1;34m'10'\u001b[0m\u001b[1;33m,\u001b[0m\u001b[1;34m'B'\u001b[0m\u001b[1;33m:\u001b[0m\u001b[1;34m'20'\u001b[0m\u001b[1;33m,\u001b[0m\u001b[1;34m'c'\u001b[0m\u001b[1;33m:\u001b[0m\u001b[1;34m'20'\u001b[0m\u001b[1;33m,\u001b[0m\u001b[1;34m'D'\u001b[0m\u001b[1;33m:\u001b[0m\u001b[1;34m'30'\u001b[0m\u001b[1;33m,\u001b[0m\u001b[1;34m'E'\u001b[0m\u001b[1;33m:\u001b[0m\u001b[1;34m'40'\u001b[0m\u001b[1;33m,\u001b[0m\u001b[1;34m'F'\u001b[0m\u001b[1;33m:\u001b[0m\u001b[1;34m'10'\u001b[0m\u001b[1;33m,\u001b[0m\u001b[1;34m'G'\u001b[0m\u001b[1;33m:\u001b[0m\u001b[1;34m'50'\u001b[0m\u001b[1;33m,\u001b[0m\u001b[1;34m'H'\u001b[0m\u001b[1;33m:\u001b[0m\u001b[1;34m'85'\u001b[0m\u001b[1;33m}\u001b[0m\u001b[1;33m)\u001b[0m\u001b[1;33m\u001b[0m\u001b[1;33m\u001b[0m\u001b[0m\n\u001b[0m\u001b[0;32m     21\u001b[0m \u001b[0ma\u001b[0m\u001b[1;33m.\u001b[0m\u001b[0mvalues\u001b[0m\u001b[1;33m(\u001b[0m\u001b[1;33m)\u001b[0m\u001b[1;33m\u001b[0m\u001b[1;33m\u001b[0m\u001b[0m\n\u001b[0;32m     22\u001b[0m \u001b[1;33m\u001b[0m\u001b[0m\n",
      "\u001b[1;31mNameError\u001b[0m: name 'unique' is not defined"
     ]
    }
   ],
   "source": [
    "class Unique:\n",
    "    def __init__(self,a):\n",
    "        self.a=a\n",
    "   \n",
    "        \n",
    "    def values(self):\n",
    "        try:\n",
    "            lst=[]\n",
    "            for i in self.a.fromkeys(self.a.values()):\n",
    "                lst.append(i)\n",
    "            return lst\n",
    "        except Exception as E:\n",
    "            print(E)\n",
    "    def __str__(self):\n",
    "        return 'not return to object'\n",
    "   \n",
    "    \n",
    "    \n",
    "            \n",
    "a=unique({\"A\":'10','B':'20','c':'20','D':'30','E':'40','F':'10','G':'50','H':'85'}) \n",
    "a.values()\n",
    "        "
   ]
  },
  {
   "cell_type": "markdown",
   "metadata": {},
   "source": [
    "2. Write a Python program to find the sum of all items in a dictionary?"
   ]
  },
  {
   "cell_type": "code",
   "execution_count": 5,
   "metadata": {},
   "outputs": [
    {
     "data": {
      "text/plain": [
       "265"
      ]
     },
     "execution_count": 5,
     "metadata": {},
     "output_type": "execute_result"
    }
   ],
   "source": [
    "class Sumofallitem:\n",
    "    def return_values(self,a):\n",
    "        try:\n",
    "            sum1=0\n",
    "            for i in a.values():\n",
    "                sum1+=int(i)\n",
    "            return sum1\n",
    "        except Exception as p:\n",
    "            return p\n",
    "                \n",
    "    def __str__(self):\n",
    "        return 'return values to the object'\n",
    "\n",
    "\n",
    "    \n",
    "    \n",
    "\n",
    "    \n",
    "object1=Sumofallitem()\n",
    "object1.return_values({\"A\":'10','B':'20','c':'20','D':'30','E':'40','F':'10','G':'50','H':'85'})"
   ]
  },
  {
   "cell_type": "markdown",
   "metadata": {},
   "source": [
    "3. Write a Python program to Merging two Dictionaries?"
   ]
  },
  {
   "cell_type": "code",
   "execution_count": 4,
   "metadata": {},
   "outputs": [
    {
     "data": {
      "text/plain": [
       "{'D': 200, 'E': 500, 'A': 100, 'B': 200, 'C': 300}"
      ]
     },
     "execution_count": 4,
     "metadata": {},
     "output_type": "execute_result"
    }
   ],
   "source": [
    "class Merge:\n",
    "    def __init__(self,a):\n",
    "        self.a=a\n",
    "    def merging_dictoinary(self):\n",
    "        try:\n",
    "            s={\"D\":200,'E':500}\n",
    "            for i,j in self.a.items():\n",
    "                s.update(((i,j),))\n",
    "            \n",
    "        except Exception as p:\n",
    "            print(p)\n",
    "        else:\n",
    "            return s\n",
    "    def __str__(self):\n",
    "        return 'return values to the object'\n",
    "\n",
    "            \n",
    "    \n",
    "            \n",
    "\n",
    "        \n",
    "    \n",
    "object2=Merge({'A':100,'B':200,'C':300})\n",
    "object2.merging_dictoinary()\n",
    "    "
   ]
  },
  {
   "cell_type": "markdown",
   "metadata": {},
   "source": [
    "4. Write a Python program to convert key-values list to flat dictionary?\n",
    "    "
   ]
  },
  {
   "cell_type": "code",
   "execution_count": 3,
   "metadata": {},
   "outputs": [
    {
     "data": {
      "text/plain": [
       "{'A': 1, 'B': 2, 'C': 3}"
      ]
     },
     "execution_count": 3,
     "metadata": {},
     "output_type": "execute_result"
    }
   ],
   "source": [
    "class Faltdictionary:\n",
    "    def __init__(self,a):\n",
    "        self.a=a\n",
    "    \n",
    "    def values(self):\n",
    "        try:\n",
    "            b=[i for i in self.a.values()]\n",
    "            c={}\n",
    "            for i ,j in zip(*b):\n",
    "                c.update(((i,j),))\n",
    "            return c\n",
    "            \n",
    "        except Exception as p:\n",
    "            print(p)\n",
    "    def __str__(self):\n",
    "         return 'return values to the object'\n",
    "        \n",
    "        \n",
    "object1=Faltdictionary({'a':['A','B','C'],'b':[1,2,3]})  \n",
    "object1.values()"
   ]
  },
  {
   "cell_type": "code",
   "execution_count": null,
   "metadata": {},
   "outputs": [],
   "source": [
    "5. Write a Python program to insertion at the beginning in OrderedDict?"
   ]
  },
  {
   "cell_type": "code",
   "execution_count": 35,
   "metadata": {},
   "outputs": [
    {
     "data": {
      "text/plain": [
       "{'C0': 30, 'A0': 10, 'B0': 20}"
      ]
     },
     "execution_count": 35,
     "metadata": {},
     "output_type": "execute_result"
    }
   ],
   "source": [
    "import collections \n",
    "class Insertion:\n",
    "    def __init__(self,a):\n",
    "        self.a=a\n",
    "    def ordereddict(self):\n",
    "        try:\n",
    "            self.a.update((('C0',30),))\n",
    "            self.a.move_to_end('C0',last=False)\n",
    "        except Exception as p:\n",
    "            print(p)\n",
    "        else:\n",
    "            return dict(collect)\n",
    "        \n",
    "        \n",
    "        \n",
    "        \n",
    "collect=collections.OrderedDict({'A0':10,'B0':20})\n",
    "object1=Insertion(collect)\n",
    "object1.ordereddict()"
   ]
  },
  {
   "cell_type": "markdown",
   "metadata": {},
   "source": [
    "6. Write a Python program to sort Python Dictionaries by Key or Value?"
   ]
  },
  {
   "cell_type": "code",
   "execution_count": 9,
   "metadata": {},
   "outputs": [
    {
     "data": {
      "text/plain": [
       "[(1, 78), (25, 86), (26, 75), (66, 76), (75, 45), (79, 85)]"
      ]
     },
     "execution_count": 9,
     "metadata": {},
     "output_type": "execute_result"
    }
   ],
   "source": [
    "def key_values(a):\n",
    "    try:\n",
    "        return sorted(a.items())\n",
    "    except Exception as p:\n",
    "        print(p)\n",
    "\n",
    "    \n",
    "    \n",
    "    \n",
    "key_values({25:86,75:45,79:85,66:76,26:75,1:78})"
   ]
  },
  {
   "cell_type": "code",
   "execution_count": null,
   "metadata": {},
   "outputs": [],
   "source": []
  }
 ],
 "metadata": {
  "kernelspec": {
   "display_name": "Python 3",
   "language": "python",
   "name": "python3"
  },
  "language_info": {
   "codemirror_mode": {
    "name": "ipython",
    "version": 3
   },
   "file_extension": ".py",
   "mimetype": "text/x-python",
   "name": "python",
   "nbconvert_exporter": "python",
   "pygments_lexer": "ipython3",
   "version": "3.8.5"
  }
 },
 "nbformat": 4,
 "nbformat_minor": 4
}

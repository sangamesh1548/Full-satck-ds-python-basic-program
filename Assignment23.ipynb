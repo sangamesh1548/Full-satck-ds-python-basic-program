{
 "cells": [
  {
   "cell_type": "code",
   "execution_count": null,
   "metadata": {},
   "outputs": [],
   "source": []
  },
  {
   "cell_type": "code",
   "execution_count": 138,
   "metadata": {},
   "outputs": [
    {
     "name": "stdout",
     "output_type": "stream",
     "text": [
      "7227\n",
      "None\n",
      "76521\n",
      "None\n",
      "44444444\n",
      "None\n",
      "9399\n",
      "None\n",
      "1112111\n",
      "None\n"
     ]
    }
   ],
   "source": [
    "def is_symmetrical(a):\n",
    "    str1=str(a)\n",
    "    print(str1[::-1])\n",
    "    \n",
    "        \n",
    "\n",
    "a=is_symmetrical(7227)\n",
    "print(a)\n",
    "b=is_symmetrical(12567)\n",
    "print(b)\n",
    "c=is_symmetrical(44444444)\n",
    "print(c)\n",
    "d=is_symmetrical(9939)\n",
    "print(d)\n",
    "e=is_symmetrical(1112111)\n",
    "print(e)"
   ]
  },
  {
   "cell_type": "code",
   "execution_count": null,
   "metadata": {},
   "outputs": [],
   "source": []
  },
  {
   "cell_type": "markdown",
   "metadata": {},
   "source": [
    "Question 2\n",
    "Given a string of numbers separated by a comma and space, return the product of the\n",
    "numbers."
   ]
  },
  {
   "cell_type": "code",
   "execution_count": 48,
   "metadata": {},
   "outputs": [
    {
     "name": "stdout",
     "output_type": "stream",
     "text": [
      "not return any values\n",
      "6\n",
      "24\n",
      "0\n",
      "-20\n"
     ]
    }
   ],
   "source": [
    "class Multiply:\n",
    "    def __init__(self,a):\n",
    "        self.a=a.split(',')\n",
    "    def function(self):\n",
    "        try:\n",
    "            mul=1\n",
    "            for i in range(len(self.a)):\n",
    "                mul*=int(self.a[i])\n",
    "            return mul\n",
    "            \n",
    "                \n",
    "        except Exception as p:\n",
    "            print(p)\n",
    "    def __str__(self):\n",
    "        return 'not return any values'\n",
    "        \n",
    "    \n",
    "\n",
    "object1=Multiply(\"2, 3\")\n",
    "print(object1)\n",
    "print(object1.function())\n",
    "object2=Multiply(\"1, 2, 3, 4\") \n",
    "print(object2.function())\n",
    "object3=Multiply(\"54, 75, 453, 0\") \n",
    "print(object3.function())\n",
    "object5=Multiply(\"10, -2\")\n",
    "print(object5.function())"
   ]
  },
  {
   "cell_type": "markdown",
   "metadata": {},
   "source": [
    "Question 3\n",
    "Create a function that squares every digit of a number.\n",
    "Examples\n"
   ]
  },
  {
   "cell_type": "code",
   "execution_count": 75,
   "metadata": {},
   "outputs": [
    {
     "name": "stdout",
     "output_type": "stream",
     "text": [
      "811181\n",
      "416649\n",
      "9414\n"
     ]
    }
   ],
   "source": [
    "def square_digits(a):\n",
    "    lst=[]\n",
    "    for i in str(a):\n",
    "        lst.append(int(i)**2)\n",
    "    print(*lst,sep='')\n",
    "    \n",
    "    \n",
    "        \n",
    "\n",
    "a=square_digits(9119)\n",
    "b=square_digits(2483)\n",
    "c=square_digits(3212) "
   ]
  },
  {
   "cell_type": "markdown",
   "metadata": {},
   "source": [
    "Question 4\n",
    "Create a function that sorts a list and removes all duplicate items from it."
   ]
  },
  {
   "cell_type": "code",
   "execution_count": 82,
   "metadata": {},
   "outputs": [
    {
     "name": "stdout",
     "output_type": "stream",
     "text": [
      "[1, 3, 5]\n",
      "[4]\n",
      "[5, 7, 8, 9, 10, 15]\n",
      "[1, 2, 3]\n"
     ]
    }
   ],
   "source": [
    "def setify(a):\n",
    "    s=set()\n",
    "    for i in sorted(a):\n",
    "        s.add(i)\n",
    "    print(list(s))\n",
    "        \n",
    "\n",
    "setify([1, 3, 3, 5, 5])\n",
    "setify([4, 4, 4, 4])\n",
    "setify([5, 7, 8, 9, 10, 15])\n",
    "setify([3, 3, 3, 2, 1])"
   ]
  },
  {
   "cell_type": "markdown",
   "metadata": {},
   "source": [
    "Question 5\n",
    "Create a function that returns the mean of all digits."
   ]
  },
  {
   "cell_type": "code",
   "execution_count": 102,
   "metadata": {},
   "outputs": [
    {
     "name": "stdout",
     "output_type": "stream",
     "text": [
      "3\n",
      "3\n",
      "6\n"
     ]
    }
   ],
   "source": [
    "def mean(a):\n",
    "    sum1=0\n",
    "    count=0\n",
    "    for i in str(a):\n",
    "        count+=1\n",
    "        sum1+=int(i)\n",
    "    return sum1//count\n",
    "    \n",
    "        \n",
    "a=mean(42)\n",
    "print(a)\n",
    "b=mean(12345)\n",
    "print(b)\n",
    "c=mean(666)\n",
    "print(c)"
   ]
  },
  {
   "cell_type": "code",
   "execution_count": null,
   "metadata": {},
   "outputs": [],
   "source": []
  }
 ],
 "metadata": {
  "kernelspec": {
   "display_name": "Python 3",
   "language": "python",
   "name": "python3"
  },
  "language_info": {
   "codemirror_mode": {
    "name": "ipython",
    "version": 3
   },
   "file_extension": ".py",
   "mimetype": "text/x-python",
   "name": "python",
   "nbconvert_exporter": "python",
   "pygments_lexer": "ipython3",
   "version": "3.8.5"
  }
 },
 "nbformat": 4,
 "nbformat_minor": 4
}

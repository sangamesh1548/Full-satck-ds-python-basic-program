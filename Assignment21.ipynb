{
 "cells": [
  {
   "cell_type": "markdown",
   "metadata": {},
   "source": [
    "Question1\n",
    "Write a function that takes a list and a number as arguments. Add the number to the end of\n",
    "the list, then remove the first element of the list. The function should then return the updated\n",
    "list."
   ]
  },
  {
   "cell_type": "code",
   "execution_count": 42,
   "metadata": {},
   "outputs": [
    {
     "name": "stdout",
     "output_type": "stream",
     "text": [
      "[6, 7, 8, 9, 1]\n",
      "[6, 3, 23, 17, 10]\n",
      "[10, 20, 42, 6]\n",
      "[6]\n"
     ]
    }
   ],
   "source": [
    "def next_in_line(a,b):\n",
    "    lst=[]\n",
    "    for i in range(len(a)):\n",
    "        if i==0:\n",
    "            continue\n",
    "        lst.append(a[i])\n",
    "    lst.append(b)\n",
    "    return lst\n",
    "    \n",
    "    \n",
    "            \n",
    "        \n",
    "    \n",
    "    \n",
    "\n",
    "\n",
    "a=next_in_line([5, 6, 7, 8, 9], 1) \n",
    "print(a)\n",
    "b=next_in_line([7, 6, 3, 23, 17], 10)\n",
    "print(b)\n",
    "c=next_in_line([1, 10, 20, 42 ], 6) \n",
    "print(c)\n",
    "d=next_in_line([], 6)\n",
    "print(d)"
   ]
  },
  {
   "cell_type": "markdown",
   "metadata": {},
   "source": [
    "Question2\n",
    "Create the function that takes a list of dictionaries and returns the sum of people&#39;s budgets.\n",
    "Examples\n"
   ]
  },
  {
   "cell_type": "code",
   "execution_count": 76,
   "metadata": {},
   "outputs": [
    {
     "name": "stdout",
     "output_type": "stream",
     "text": [
      "65700\n",
      "62600\n"
     ]
    }
   ],
   "source": [
    "def get_budgets(n):\n",
    "    sum1=0\n",
    "    for i in n:\n",
    "        for j in i.keys():\n",
    "            if j=='budget':\n",
    "                sum1+=i[j]\n",
    "    return sum1\n",
    "    \n",
    "\n",
    "a=get_budgets([ { \"name\": \"John\", \"age\": 21, \"budget\": 23000 }, \n",
    "             { \"name\": \"Steve\", \"age\": 32, \"budget\": 40000 }, \n",
    "             { \"name\": \"Martin\", \"age\": 16, \"budget\": 2700 } ])\n",
    "print(a)\n",
    "b=get_budgets([ { \"name\": \"John\", \"age\": 21, \"budget\": 29000 }, \n",
    "               { \"name\": \"Steve\", \"age\": 32, \"budget\": 32000 }, \n",
    "               { \"name\": \"Martin\", \"age\": 16, \"budget\": 1600 } ])\n",
    "print(b)"
   ]
  },
  {
   "cell_type": "markdown",
   "metadata": {},
   "source": [
    "Question3\n",
    "Create a function that takes a string and returns a string with its letters in alphabetical order.\n",
    "Examples\n",
    "alphabet_soup(&quot;hello&quot;) ➞ &quot;ehllo&quot;\n",
    "alphabet_soup(&quot;edabit&quot;) ➞ &quot;abdeit&quot;\n",
    "alphabet_soup(&quot;hacker&quot;) ➞ &quot;acehkr&quot;\n",
    "alphabet_soup(&quot;geek&quot;) ➞ &quot;eegk&quot;\n",
    "alphabet_soup(&quot;javascript&quot;) ➞ &quot;aacijprstv&quot;"
   ]
  },
  {
   "cell_type": "code",
   "execution_count": 79,
   "metadata": {},
   "outputs": [
    {
     "name": "stdout",
     "output_type": "stream",
     "text": [
      "ehllo\n",
      "abdeit\n"
     ]
    }
   ],
   "source": [
    "def alphabet_soup(a):\n",
    "    b=sorted(a)\n",
    "    s=''\n",
    "    for i in b:\n",
    "        s+=i\n",
    "    return s\n",
    "        \n",
    "\n",
    "a=alphabet_soup(\"hello\")\n",
    "print(a)\n",
    "b=alphabet_soup(\"edabit\") \n",
    "print(b)"
   ]
  },
  {
   "cell_type": "code",
   "execution_count": 128,
   "metadata": {},
   "outputs": [
    {
     "name": "stdout",
     "output_type": "stream",
     "text": [
      "100.0\n",
      "52500.0\n",
      "2000000.0\n"
     ]
    }
   ],
   "source": [
    "def compound_interest(p,t,r,n):\n",
    "    FV=p*(1+r//n)**n*t\n",
    "    return FV\n",
    "    \n",
    "\n",
    "\n",
    "\n",
    "a=compound_interest(100, 1, 0.05, 1)\n",
    "print(a)\n",
    "b=compound_interest(3500, 15, 0.1, 4)\n",
    "print(b)\n",
    "c=compound_interest(100000, 20, 0.15, 365) \n",
    "print(c)"
   ]
  },
  {
   "cell_type": "markdown",
   "metadata": {},
   "source": [
    "Write a function that takes a list of elements and returns only the integers.\n",
    "\n",
    "\n"
   ]
  },
  {
   "cell_type": "markdown",
   "metadata": {},
   "source": [
    "return_only_integer([9, 2, &quot;space&quot;, &quot;car&quot;, &quot;lion&quot;, 16]) ➞ [9, 2, 16]\n",
    "return_only_integer([&quot;hello&quot;, 81, &quot;basketball&quot;, 123, &quot;fox&quot;]) ➞ [81, 123]\n",
    "return_only_integer([10, &quot;121&quot;, 56, 20, &quot;car&quot;, 3, &quot;lion&quot;])"
   ]
  },
  {
   "cell_type": "code",
   "execution_count": 130,
   "metadata": {},
   "outputs": [],
   "source": [
    "def return_only_integer(a):\n",
    "    lst=[]\n",
    "    for i in a:\n",
    "        if type(i)==int:\n",
    "            lst.append(i)\n",
    "    return lst\n",
    "    \n",
    "a=return_only_integer([9, 2, \"space\", \"car\", \"lion\", 16]) \n",
    "print(a\n",
    ")"
   ]
  },
  {
   "cell_type": "code",
   "execution_count": null,
   "metadata": {},
   "outputs": [],
   "source": []
  }
 ],
 "metadata": {
  "kernelspec": {
   "display_name": "Python 3",
   "language": "python",
   "name": "python3"
  },
  "language_info": {
   "codemirror_mode": {
    "name": "ipython",
    "version": 3
   },
   "file_extension": ".py",
   "mimetype": "text/x-python",
   "name": "python",
   "nbconvert_exporter": "python",
   "pygments_lexer": "ipython3",
   "version": "3.8.5"
  }
 },
 "nbformat": 4,
 "nbformat_minor": 4
}

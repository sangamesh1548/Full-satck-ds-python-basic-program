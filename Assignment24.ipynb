{
 "cells": [
  {
   "cell_type": "markdown",
   "metadata": {},
   "source": [
    "Question1\n",
    "Create a function that takes an integer and returns a list from 1 to the given number, where:\n",
    "1. If the number can be divided evenly by 4, amplify it by 10 (i.e. return 10 times the\n",
    "number).\n",
    "2. If the number cannot be divided evenly by 4, simply return the number."
   ]
  },
  {
   "cell_type": "code",
   "execution_count": 115,
   "metadata": {},
   "outputs": [
    {
     "name": "stdout",
     "output_type": "stream",
     "text": [
      "[1, 2, 3, 40]\n",
      "[1, 2, 3]\n",
      "[1, 2, 3, 40, 5, 6, 7, 80, 9, 10, 11, 120, 13, 14, 15, 160, 17, 18, 19, 200, 21, 22, 23, 240, 25]\n"
     ]
    }
   ],
   "source": [
    "def amplify(n):\n",
    "    lst=[]\n",
    "    for i in range(1,n+1):\n",
    "        if i%4==0:\n",
    "            lst.append(i*10)\n",
    "        elif i%4!=0:\n",
    "            lst.append(i)\n",
    "    return lst\n",
    "        \n",
    "        \n",
    "    \n",
    "    \n",
    "a=amplify(4)\n",
    "print(a)\n",
    "b=amplify(3)\n",
    "print(b)\n",
    "c=amplify(25)\n",
    "print(c)"
   ]
  },
  {
   "cell_type": "markdown",
   "metadata": {},
   "source": [
    "Question2\n",
    "Create a function that takes a list of numbers and return the number that&#39;s unique."
   ]
  },
  {
   "cell_type": "code",
   "execution_count": 87,
   "metadata": {},
   "outputs": [
    {
     "name": "stdout",
     "output_type": "stream",
     "text": [
      "7\n",
      "0.77\n",
      "0\n"
     ]
    }
   ],
   "source": [
    "def unique(a):\n",
    "    for i in a:\n",
    "        if a.count(i)==1:\n",
    "            return i\n",
    "\n",
    "a=unique([3, 3, 3, 7, 3, 3])\n",
    "print(a)\n",
    "a=unique([0, 0, 0.77, 0, 0])\n",
    "print(a)\n",
    "a=unique([0, 1, 1, 1, 1, 1, 1, 1])\n",
    "print(a)"
   ]
  },
  {
   "cell_type": "markdown",
   "metadata": {},
   "source": [
    "Question3\n",
    "Your task is to create a Circle constructor that creates a circle with a radius provided by an\n",
    "argument. The circles constructed must have two getters getArea() (PIr^2) and\n",
    "getPerimeter() (2PI*r) which give both respective areas and perimeter (circumference)."
   ]
  },
  {
   "cell_type": "code",
   "execution_count": 124,
   "metadata": {},
   "outputs": [
    {
     "name": "stdout",
     "output_type": "stream",
     "text": [
      "380.132711084365\n",
      "27.897342763877365\n"
     ]
    }
   ],
   "source": [
    "import math as mt\n",
    "class Circle:\n",
    "    def __init__(self,r):\n",
    "        self.r=r\n",
    "    def getArea(self):\n",
    "        return mt.pi*self.r**2\n",
    "    def getPerimeter(self):\n",
    "        return 2*(mt.pi)*self.r\n",
    "        \n",
    "    \n",
    "    \n",
    "    \n",
    "object1=Circle(11)\n",
    "print(object1.getArea())\n",
    "object2=Circle(4.44)\n",
    "print(object2.getPerimeter())"
   ]
  },
  {
   "cell_type": "markdown",
   "metadata": {},
   "source": [
    "Question4\n",
    "Create a function that takes a list of strings and return a list, sorted from shortest to longest."
   ]
  },
  {
   "cell_type": "code",
   "execution_count": 41,
   "metadata": {},
   "outputs": [
    {
     "name": "stdout",
     "output_type": "stream",
     "text": [
      "['Apple', 'Google', 'Microsoft']\n",
      "['Raphael', 'Leonardo', 'Donatello', 'Michelangelo']\n",
      "['Jung', 'Turing', 'Einstein']\n"
     ]
    }
   ],
   "source": [
    "def sort_by_length(n):\n",
    "    dict={}\n",
    "    for i in range(len(n)):\n",
    "        dict.update({len(n[i]):n[i]})\n",
    "    lst=[]\n",
    "    for j in sorted(dict):\n",
    "        lst.append(dict[j])\n",
    "    return lst\n",
    "    \n",
    "        \n",
    "a=sort_by_length([\"Google\", \"Apple\", \"Microsoft\"]) \n",
    "print(a)\n",
    "b=sort_by_length([\"Leonardo\", \"Michelangelo\", \"Raphael\", \"Donatello\"])\n",
    "print(b)\n",
    "c=sort_by_length([\"Turing\", \"Einstein\", \"Jung\"])\n",
    "print(c)"
   ]
  },
  {
   "cell_type": "markdown",
   "metadata": {},
   "source": [
    "\n",
    "    Question5\n",
    "Create a function that validates whether three given integers form a Pythagorean triplet. The\n",
    "sum of the squares of the two smallest integers must equal the square of the largest number to\n",
    "be validated.\n"
   ]
  },
  {
   "cell_type": "code",
   "execution_count": 85,
   "metadata": {},
   "outputs": [
    {
     "name": "stdout",
     "output_type": "stream",
     "text": [
      "True\n",
      "True\n",
      "False\n"
     ]
    }
   ],
   "source": [
    "def is_triplet(*a):\n",
    "    lst=[]\n",
    "    for i in sorted(a):\n",
    "            lst.append(int(i)**2)\n",
    "    \n",
    "    if lst[0]+lst[1]==lst[2]:\n",
    "        return True\n",
    "    else:\n",
    "        return False\n",
    "\n",
    "a=is_triplet(3, 4, 5) \n",
    "print(a)\n",
    "b=is_triplet(13, 5, 12)\n",
    "print(b)\n",
    "c=is_triplet(1, 2, 3)\n",
    "print(c)"
   ]
  },
  {
   "cell_type": "code",
   "execution_count": null,
   "metadata": {},
   "outputs": [],
   "source": []
  },
  {
   "cell_type": "code",
   "execution_count": null,
   "metadata": {},
   "outputs": [],
   "source": []
  },
  {
   "cell_type": "code",
   "execution_count": null,
   "metadata": {},
   "outputs": [],
   "source": []
  }
 ],
 "metadata": {
  "kernelspec": {
   "display_name": "Python 3",
   "language": "python",
   "name": "python3"
  },
  "language_info": {
   "codemirror_mode": {
    "name": "ipython",
    "version": 3
   },
   "file_extension": ".py",
   "mimetype": "text/x-python",
   "name": "python",
   "nbconvert_exporter": "python",
   "pygments_lexer": "ipython3",
   "version": "3.8.5"
  }
 },
 "nbformat": 4,
 "nbformat_minor": 4
}

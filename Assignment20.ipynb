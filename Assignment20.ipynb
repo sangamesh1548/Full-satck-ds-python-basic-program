{
 "cells": [
  {
   "cell_type": "markdown",
   "metadata": {},
   "source": [
    "Question1\n",
    "Create a function that takes a list of strings and integers, and filters out the list so that it\n",
    "returns a list of integers only.\n",
    "Examples\n",
    "filter_list([1, 2, 3, &quot;a&quot;, &quot;b&quot;, 4]) ➞ [1, 2, 3, 4]\n",
    "filter_list([&quot;A&quot;, 0, &quot;Edabit&quot;, 1729, &quot;Python&quot;, &quot;1729&quot;]) ➞ [0, 1729]\n",
    "filter_list([&quot;Nothing&quot;, &quot;here&quot;]) ➞ []"
   ]
  },
  {
   "cell_type": "code",
   "execution_count": 7,
   "metadata": {},
   "outputs": [
    {
     "name": "stdout",
     "output_type": "stream",
     "text": [
      "[0, 1729]\n",
      "[]\n",
      "[1, 2, 3, 4]\n"
     ]
    }
   ],
   "source": [
    "def filter_list(a):\n",
    "    return [i  for i in a if type(i)==int]\n",
    "\n",
    "\n",
    "a=filter_list([\"A\", 0, \"Edabit\", 1729, \"Python\", \"1729\"])\n",
    "b=filter_list([\"Nothing\", \"here\"])\n",
    "c=filter_list([1, 2, 3, \"a\", \"b\", 4])\n",
    "print(a)\n",
    "print(b)\n",
    "print(c)"
   ]
  },
  {
   "cell_type": "markdown",
   "metadata": {},
   "source": [
    "Question2\n",
    "Given a list of numbers, create a function which returns the list but with each element&#39;s\n",
    "index in the list added to itself. This means you add 0 to the number at index 0, add 1 to the\n",
    "number at index 1, etc...\n",
    "Examples\n"
   ]
  },
  {
   "cell_type": "code",
   "execution_count": 82,
   "metadata": {},
   "outputs": [
    {
     "name": "stdout",
     "output_type": "stream",
     "text": [
      "[1, 2, 3, 4, 5]\n",
      "[0, 0, 0, 0, 0]\n"
     ]
    }
   ],
   "source": [
    "import numpy as np\n",
    "def add_indexes(a):\n",
    "    lst2=[]\n",
    "\n",
    "    for i in range(len(a)):\n",
    "        lst2.append(a[i])\n",
    "        \n",
    "      \n",
    "    return lst2\n",
    "\n",
    "      \n",
    "     \n",
    "    \n",
    "    \n",
    "a=add_indexes([1, 2, 3, 4, 5]) \n",
    "print(a)\n",
    "b=add_indexes([0,0,0,0,0]) \n",
    "print(b)"
   ]
  },
  {
   "cell_type": "markdown",
   "metadata": {},
   "source": [
    "Question3\n",
    "Create a function that takes the height and radius of a cone as arguments and returns the\n",
    "volume of the cone rounded to the nearest hundredth. See the resources tab for the formula."
   ]
  },
  {
   "cell_type": "code",
   "execution_count": 88,
   "metadata": {},
   "outputs": [
    {
     "name": "stdout",
     "output_type": "stream",
     "text": [
      "12.568\n",
      "565.56\n",
      "0.0\n"
     ]
    }
   ],
   "source": [
    "def cone_volume(h,r):\n",
    "    v=3.142*r**2*h/3\n",
    "    return v\n",
    "  \n",
    "    \n",
    "print(cone_volume(3, 2))\n",
    "print(cone_volume(15, 6)) \n",
    "print(cone_volume(18, 0))"
   ]
  },
  {
   "cell_type": "code",
   "execution_count": 103,
   "metadata": {},
   "outputs": [
    {
     "name": "stdout",
     "output_type": "stream",
     "text": [
      "1\n"
     ]
    }
   ],
   "source": [
    "n=1\n",
    "n1= n*(n+1)//2\n",
    "print(n1)\n"
   ]
  },
  {
   "cell_type": "code",
   "execution_count": 115,
   "metadata": {},
   "outputs": [
    {
     "name": "stdout",
     "output_type": "stream",
     "text": [
      "1\n",
      "21\n",
      "23220\n"
     ]
    }
   ],
   "source": [
    "def triangle(n):\n",
    "    n1= n*(n+1)//2\n",
    "    return n1\n",
    "a=triangle(1)\n",
    "print(a)\n",
    "b=triangle(6)\n",
    "print(b)\n",
    "c=triangle(215)\n",
    "print(c)"
   ]
  },
  {
   "cell_type": "markdown",
   "metadata": {},
   "source": [
    "Question5\n",
    "Create a function that takes a list of numbers between 1 and 10 (excluding one number) and\n",
    "returns the missing number."
   ]
  },
  {
   "cell_type": "code",
   "execution_count": 10,
   "metadata": {},
   "outputs": [
    {
     "name": "stdout",
     "output_type": "stream",
     "text": [
      "5\n",
      "10\n",
      "7\n"
     ]
    }
   ],
   "source": [
    "def missing_num(n):\n",
    "    lst=[1,2,3,4,5,6,7,8,9,10]\n",
    "    for i in lst:\n",
    "        if i not in n:\n",
    "            return i\n",
    "            \n",
    "    \n",
    "\n",
    "a=missing_num([1, 2, 3, 4, 6, 7, 8, 9, 10])\n",
    "b=missing_num([7, 2, 3, 6, 5, 9, 1, 4, 8])\n",
    "c=missing_num([10, 5, 1, 2, 4, 6, 8, 3, 9])\n",
    "print(a)\n",
    "print(b)\n",
    "print(c)"
   ]
  },
  {
   "cell_type": "code",
   "execution_count": null,
   "metadata": {},
   "outputs": [],
   "source": []
  }
 ],
 "metadata": {
  "kernelspec": {
   "display_name": "Python 3",
   "language": "python",
   "name": "python3"
  },
  "language_info": {
   "codemirror_mode": {
    "name": "ipython",
    "version": 3
   },
   "file_extension": ".py",
   "mimetype": "text/x-python",
   "name": "python",
   "nbconvert_exporter": "python",
   "pygments_lexer": "ipython3",
   "version": "3.8.5"
  }
 },
 "nbformat": 4,
 "nbformat_minor": 4
}

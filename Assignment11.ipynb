{
 "cells": [
  {
   "cell_type": "markdown",
   "metadata": {},
   "source": [
    "1. Write a Python program to find words which are greater than given length k?"
   ]
  },
  {
   "cell_type": "code",
   "execution_count": null,
   "metadata": {},
   "outputs": [],
   "source": []
  },
  {
   "cell_type": "code",
   "execution_count": 2,
   "metadata": {},
   "outputs": [
    {
     "name": "stdout",
     "output_type": "stream",
     "text": [
      "Enter Words:\n",
      "ineuron ai\n",
      "Enter the k value:\n",
      "3\n",
      "ineuron\n"
     ]
    }
   ],
   "source": [
    "def lenof(words,k):\n",
    "    for i in words:\n",
    "        if len(i)>k:\n",
    "            print(i)\n",
    "        \n",
    "    \n",
    "    \n",
    "a=input('Enter Words:\\n').split()\n",
    "b=int(input(('Enter the k value:\\n')))\n",
    "lenof(a,b)"
   ]
  },
  {
   "cell_type": "markdown",
   "metadata": {},
   "source": [
    "2. Write a Python program for removing i-th character from a string?"
   ]
  },
  {
   "cell_type": "code",
   "execution_count": null,
   "metadata": {},
   "outputs": [],
   "source": []
  },
  {
   "cell_type": "code",
   "execution_count": 5,
   "metadata": {},
   "outputs": [
    {
     "name": "stdout",
     "output_type": "stream",
     "text": [
      "Enter Words:\n",
      "ineuron\n",
      "3\n",
      "i n e r o n "
     ]
    }
   ],
   "source": [
    "def remove(words,ith):\n",
    "    for i in words:\n",
    "        if i==words[ith]:\n",
    "            continue\n",
    "        print(i,end=' ')\n",
    "  \n",
    "    \n",
    "    \n",
    "a=input('Enter Words:\\n')\n",
    "b=int(input())\n",
    "remove(a,b)"
   ]
  },
  {
   "cell_type": "markdown",
   "metadata": {},
   "source": [
    "3. Write a Python program to split and join a string?"
   ]
  },
  {
   "cell_type": "code",
   "execution_count": 7,
   "metadata": {},
   "outputs": [
    {
     "name": "stdout",
     "output_type": "stream",
     "text": [
      "enter the world:\n",
      "ineroun provide a qualitly educztion\n",
      "['ineroun', 'provide', 'a', 'qualitly', 'educztion']\n"
     ]
    },
    {
     "data": {
      "text/plain": [
       "'ineroun-provide-a-qualitly-educztion'"
      ]
     },
     "execution_count": 7,
     "metadata": {},
     "output_type": "execute_result"
    }
   ],
   "source": [
    "def fun(a):\n",
    "    return '-'.join(a)\n",
    "    \n",
    "    \n",
    "a=input('enter the world:\\n').split()\n",
    "print(a)\n",
    "fun(a)"
   ]
  },
  {
   "cell_type": "markdown",
   "metadata": {},
   "source": [
    "4. Write a Python to check if a given string is binary string or not?"
   ]
  },
  {
   "cell_type": "code",
   "execution_count": 8,
   "metadata": {},
   "outputs": [
    {
     "name": "stdout",
     "output_type": "stream",
     "text": [
      "string is not a binary string.\n"
     ]
    }
   ],
   "source": [
    "def binary_string(n):\n",
    "    s = ['0','1']\n",
    "    a = list(set(n))\n",
    "    if s == a:\n",
    "        print(\"string  is a binary string\")\n",
    "    else:\n",
    "        print(\"string is not a binary string.\")\n",
    "\n",
    "\n",
    "            \n",
    "binary_string('0101kj')"
   ]
  },
  {
   "cell_type": "markdown",
   "metadata": {},
   "source": [
    "5. Write a Python program to find uncommon words from two Strings?"
   ]
  },
  {
   "cell_type": "code",
   "execution_count": 10,
   "metadata": {},
   "outputs": [
    {
     "name": "stdout",
     "output_type": "stream",
     "text": [
      "Enter the first word:apple banana mango\n",
      "Enter the second word:banana fruits mango\n",
      "apple\n",
      "fruits\n"
     ]
    }
   ],
   "source": [
    "def uncommom_words(string1,string2):\n",
    "    lst=[]\n",
    "    for i in string1:\n",
    "        if i not  in string2:\n",
    "            lst.append(i)\n",
    "    for j in string2:\n",
    "        if j not  in string1:\n",
    "            lst.append(j)\n",
    "        \n",
    "    for k in lst:\n",
    "        yield k\n",
    "       \n",
    "\n",
    "        \n",
    "    \n",
    "        \n",
    "string1=input('Enter the first word:').split() \n",
    "string2=input('Enter the second word:').split()\n",
    "a=uncommom_words(string1,string2)\n",
    "for l in a:\n",
    "    print(l)"
   ]
  },
  {
   "cell_type": "code",
   "execution_count": null,
   "metadata": {},
   "outputs": [],
   "source": [
    "apple banana mango\n",
    "banana fruits mango"
   ]
  },
  {
   "cell_type": "markdown",
   "metadata": {},
   "source": [
    "6. Write a Python to find all duplicate characters in string?"
   ]
  },
  {
   "cell_type": "code",
   "execution_count": 16,
   "metadata": {},
   "outputs": [
    {
     "name": "stdout",
     "output_type": "stream",
     "text": [
      "g,k,s,e,"
     ]
    }
   ],
   "source": [
    "def duplicate_string(n):\n",
    "    s=[]\n",
    "    for i in n:\n",
    "        if n.count(i)>1:\n",
    "            s.append(i)\n",
    "    for j in set(s):\n",
    "        yield j\n",
    "            \n",
    "s=duplicate_string('geeksforgeeeks') \n",
    "for i in s:\n",
    "    print(i,end=',')"
   ]
  },
  {
   "cell_type": "markdown",
   "metadata": {},
   "source": [
    "7. Write a Python Program to check if a string contains any special character?"
   ]
  },
  {
   "cell_type": "code",
   "execution_count": 84,
   "metadata": {},
   "outputs": [
    {
     "name": "stdout",
     "output_type": "stream",
     "text": [
      "yes string is conatin sepcial character\n"
     ]
    }
   ],
   "source": [
    "def special_charcter(n):\n",
    "    for i in n:\n",
    "        if i.isalnum():\n",
    "            continue\n",
    "          \n",
    "        elif not i.isalnum():\n",
    "            print('yes string is conatin sepcial character')\n",
    "            break\n",
    "            \n",
    "    \n",
    "            \n",
    "    \n",
    "    \n",
    "   \n",
    "            \n",
    "    \n",
    "    \n",
    "special_charcter('sangamesh123()')      "
   ]
  },
  {
   "cell_type": "code",
   "execution_count": null,
   "metadata": {},
   "outputs": [],
   "source": []
  },
  {
   "cell_type": "code",
   "execution_count": null,
   "metadata": {},
   "outputs": [],
   "source": []
  }
 ],
 "metadata": {
  "kernelspec": {
   "display_name": "Python 3",
   "language": "python",
   "name": "python3"
  },
  "language_info": {
   "codemirror_mode": {
    "name": "ipython",
    "version": 3
   },
   "file_extension": ".py",
   "mimetype": "text/x-python",
   "name": "python",
   "nbconvert_exporter": "python",
   "pygments_lexer": "ipython3",
   "version": "3.8.5"
  }
 },
 "nbformat": 4,
 "nbformat_minor": 4
}

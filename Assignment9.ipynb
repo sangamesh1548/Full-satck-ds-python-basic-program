{
 "cells": [
  {
   "cell_type": "markdown",
   "metadata": {},
   "source": [
    "1. Write a Python program to check if the given number is a Disarium Number?\n",
    "              \n",
    "    \n",
    "    \n",
    "    \n",
    "   \n",
    "\n",
    "\n",
    "    "
   ]
  },
  {
   "cell_type": "code",
   "execution_count": 145,
   "metadata": {},
   "outputs": [
    {
     "name": "stdout",
     "output_type": "stream",
     "text": [
      "Enter the number:89\n",
      "89 Disarium Number\n"
     ]
    }
   ],
   "source": [
    "num=input('Enter the number:')\n",
    "sum=0\n",
    "n=1\n",
    "for num1 in num:\n",
    "    a=int(num1)\n",
    "    while a>=n:\n",
    "        sum+=a**n\n",
    "        n+=1\n",
    "        break\n",
    "if sum==int(num):\n",
    "    print(sum,'Disarium Number')\n",
    "else:\n",
    "    print(sum,'not Disarium Number')\n",
    "    \n",
    "        \n",
    "       \n",
    "        \n",
    "        "
   ]
  },
  {
   "cell_type": "markdown",
   "metadata": {},
   "source": [
    "47\n",
    "\n",
    "2. Write a Python program to print all disarium numbers between 1 to 100?\n",
    "    \n",
    "        "
   ]
  },
  {
   "cell_type": "code",
   "execution_count": 148,
   "metadata": {},
   "outputs": [
    {
     "name": "stdout",
     "output_type": "stream",
     "text": [
      "1\n",
      "2\n",
      "3\n",
      "4\n",
      "5\n",
      "6\n",
      "7\n",
      "8\n",
      "9\n",
      "89\n"
     ]
    }
   ],
   "source": [
    "def disarium_numbers(n):\n",
    "    for i in range(1,n):\n",
    "        if i<10:\n",
    "            yield i\n",
    "        elif i>=10and i<100:\n",
    "            s=str(i)\n",
    "            if int(s)==int(s[0])**1+int(s[1])**2:\n",
    "                yield int(s)\n",
    "        \n",
    "        \n",
    "\n",
    "\n",
    "a=disarium_numbers(101)\n",
    "for i in a:\n",
    "    print(i)\n"
   ]
  },
  {
   "cell_type": "markdown",
   "metadata": {},
   "source": [
    "3. Write a Python program to check if the given number is Happy Number?"
   ]
  },
  {
   "cell_type": "code",
   "execution_count": 133,
   "metadata": {},
   "outputs": [
    {
     "name": "stdout",
     "output_type": "stream",
     "text": [
      "Enter the number:\n",
      "7\n",
      "This number is Happy number \n"
     ]
    }
   ],
   "source": [
    "#this program is 1 to 100 happy numbers\n",
    "def happy_number(num):\n",
    "    s=0\n",
    "    for i in num:\n",
    "        s+=int(i)**2\n",
    "    if s!=1:\n",
    "        s1=0\n",
    "        for j in str(s):\n",
    "            s1+=int(j)**2\n",
    "        if s1!=1:\n",
    "            s2=0\n",
    "            for j in str(s1):\n",
    "                s2+=int(j)**2\n",
    "            if s2!=1:\n",
    "                s3=0\n",
    "                for j in str(s2):\n",
    "                    s3+=int(j)**2\n",
    "                if s3!=1:\n",
    "                    s4=0\n",
    "                    for j in str(s3):\n",
    "                        s4+=int(j)**2\n",
    "                   \n",
    "                    if s4!=1:\n",
    "                        s5=0\n",
    "                        for j in str(s4):\n",
    "                            s5+=int(j)**2\n",
    "                        \n",
    "                        if s5!=1:\n",
    "                            s6=0\n",
    "                            for j in str(s5):\n",
    "                                s6+=int(j)**2\n",
    "                            print(s6)\n",
    "                \n",
    "                        else:\n",
    "                             print('This number is Happy number ')\n",
    "                      \n",
    "                \n",
    "                    else:\n",
    "                         print('This number is Happy number ')\n",
    "                \n",
    "                \n",
    "                else:\n",
    "                     print('This number is Happy number ')\n",
    "           \n",
    "           \n",
    "            else:\n",
    "                 print('This number is Happy number ')\n",
    "            \n",
    "           \n",
    "        else:\n",
    "             print('This number is Happy number ')\n",
    "        \n",
    "    else:\n",
    "        print('This number is Happy number ')\n",
    "        \n",
    "    \n",
    "       \n",
    "        \n",
    "            \n",
    "            \n",
    "            \n",
    "num1=input('Enter the number:\\n')  \n",
    "happy_number(num1)"
   ]
  },
  {
   "cell_type": "code",
   "execution_count": 99,
   "metadata": {},
   "outputs": [
    {
     "data": {
      "text/plain": [
       "(1, 7, 10, 13, 19, 23, 28, 31, 32, 44, 49, 68, 70, 79, 82, 86, 91, 94, 97, 100)"
      ]
     },
     "execution_count": 99,
     "metadata": {},
     "output_type": "execute_result"
    }
   ],
   "source": [
    "1, 7, 10, 13, 19, 23, 28, 31, 32, 44, 49, 68, 70, 79, 82, 86, 91, 94, 97, 100"
   ]
  },
  {
   "cell_type": "markdown",
   "metadata": {},
   "source": [
    "4. Write a Python program to print all happy numbers between 1 and 100?"
   ]
  },
  {
   "cell_type": "code",
   "execution_count": 225,
   "metadata": {},
   "outputs": [
    {
     "name": "stdout",
     "output_type": "stream",
     "text": [
      "1\n",
      "7\n",
      "10\n",
      "13\n",
      "19\n",
      "23\n",
      "28\n",
      "31\n",
      "32\n",
      "44\n",
      "49\n",
      "68\n",
      "70\n",
      "79\n",
      "82\n",
      "86\n",
      "91\n",
      "94\n",
      "97\n",
      "100\n"
     ]
    }
   ],
   "source": [
    "def isHappyNumber(num):    \n",
    "    rem = sum = 0  \n",
    "       \n",
    "    while(num > 0):    \n",
    "        rem = num%10   \n",
    "        sum = sum + (rem*rem)   \n",
    "        num = num//10   \n",
    "    return sum  \n",
    "\n",
    "            \n",
    "     \n",
    "for i in range(1, 101):    \n",
    "    result = i   \n",
    "    while(result != 1 and result != 4):\n",
    "        result = isHappyNumber(result)\n",
    "    \n",
    "\n",
    "\n",
    "    \n",
    "    \n",
    "        \n",
    "    if(result == 1):    \n",
    "        print(i) \n"
   ]
  },
  {
   "cell_type": "markdown",
   "metadata": {},
   "source": [
    "5. Write a Python program to determine whether the given number is a Harshad Number?"
   ]
  },
  {
   "cell_type": "code",
   "execution_count": 138,
   "metadata": {},
   "outputs": [
    {
     "name": "stdout",
     "output_type": "stream",
     "text": [
      "Enter the number\n",
      "51044\n",
      "it is harshed number\n"
     ]
    }
   ],
   "source": [
    "def harshad_number(n):\n",
    "    num2=0\n",
    "    \n",
    "    for i in n:\n",
    "        num2+=int(i)\n",
    "    num1=int(n)\n",
    "    num3=str(num1/num2)\n",
    "    if int(num3[-1:-2:-1])==0:\n",
    "        print('it is harshed number')\n",
    "    else:\n",
    "        print('it is  not harshed number')\n",
    "   \n",
    "   \n",
    "\n",
    "        \n",
    "a=input('Enter the number\\n')\n",
    "harshad_number(a)"
   ]
  },
  {
   "cell_type": "markdown",
   "metadata": {},
   "source": [
    "6. Write a Python program to print all pronic numbers between 1 and 100?"
   ]
  },
  {
   "cell_type": "code",
   "execution_count": 185,
   "metadata": {},
   "outputs": [
    {
     "name": "stdout",
     "output_type": "stream",
     "text": [
      "2\n",
      "6\n",
      "12\n",
      "20\n",
      "30\n",
      "42\n",
      "56\n",
      "72\n",
      "90\n"
     ]
    }
   ],
   "source": [
    "def Pronic(n):    \n",
    "    for i in range(1, n+1):      \n",
    "        if (i*(i+1)) == n: \n",
    "            return i*(i+1)\n",
    "\n",
    "        \n",
    "for j in range(1, 101):    \n",
    "    if(Pronic(j)):    \n",
    "        print(j)"
   ]
  },
  {
   "cell_type": "code",
   "execution_count": null,
   "metadata": {},
   "outputs": [],
   "source": []
  }
 ],
 "metadata": {
  "kernelspec": {
   "display_name": "Python 3",
   "language": "python",
   "name": "python3"
  },
  "language_info": {
   "codemirror_mode": {
    "name": "ipython",
    "version": 3
   },
   "file_extension": ".py",
   "mimetype": "text/x-python",
   "name": "python",
   "nbconvert_exporter": "python",
   "pygments_lexer": "ipython3",
   "version": "3.8.5"
  }
 },
 "nbformat": 4,
 "nbformat_minor": 4
}

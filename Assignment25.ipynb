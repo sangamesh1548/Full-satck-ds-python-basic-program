{
 "cells": [
  {
   "cell_type": "markdown",
   "metadata": {},
   "source": [
    "Question1\n",
    "Create a function that takes three integer arguments (a, b, c) and returns the amount of\n",
    "integers which are of equal value."
   ]
  },
  {
   "cell_type": "code",
   "execution_count": 9,
   "metadata": {},
   "outputs": [
    {
     "name": "stdout",
     "output_type": "stream",
     "text": [
      "2\n",
      "3\n",
      "0\n"
     ]
    }
   ],
   "source": [
    "def equal(*a):\n",
    "    count=0\n",
    "    for i in list(a):\n",
    "        if a.count(i)>1:\n",
    "            count+=1\n",
    "    return count\n",
    "            \n",
    "\n",
    "\n",
    "a=equal(3, 4, 3)\n",
    "print(a)\n",
    "\n",
    "a=equal(1,1,1)\n",
    "print(a)\n",
    "\n",
    "a=equal(3,4,1)\n",
    "print(a)\n"
   ]
  },
  {
   "cell_type": "markdown",
   "metadata": {},
   "source": [
    "Question2\n",
    "Write a function that converts a dictionary into a list of keys-values tuples."
   ]
  },
  {
   "cell_type": "code",
   "execution_count": 12,
   "metadata": {},
   "outputs": [
    {
     "name": "stdout",
     "output_type": "stream",
     "text": [
      "[('B', 2), ('C', 3), ('D', 1)]\n",
      "[('dislikes', 3), ('followers', 10), ('likes', 2)]\n"
     ]
    }
   ],
   "source": [
    "def dict_to_list(n):\n",
    "    lst=[]\n",
    "    for i in n.items():\n",
    "        lst.append(i)\n",
    "    return sorted(lst)\n",
    "\n",
    "\n",
    "dict1=dict_to_list({ \"D\": 1, \"B\": 2, \"C\": 3 })\n",
    "print(dict1)\n",
    "dict2=dict_to_list({ \"likes\": 2, \"dislikes\": 3, \"followers\": 10 })\n",
    "print(dict2)"
   ]
  },
  {
   "cell_type": "markdown",
   "metadata": {},
   "source": [
    "Question3\n",
    "Write a function that creates a dictionary with each (key, value) pair being the (lower case,\n",
    "upper case) versions of a letter, respectively."
   ]
  },
  {
   "cell_type": "code",
   "execution_count": 18,
   "metadata": {},
   "outputs": [
    {
     "name": "stdout",
     "output_type": "stream",
     "text": [
      "{'p': 'P', 's': 'S'}\n",
      "{'a': 'A', 'b': 'B', 'c': 'C'}\n",
      "{'a': 'A', 'v': 'V', 'y': 'Y', 'z': 'Z'}\n"
     ]
    }
   ],
   "source": [
    "def mapping(lst):\n",
    "    dict1={}\n",
    "    for i in lst:\n",
    "        dict1.update(((i.lower(),i.upper()),))\n",
    "    return dict1\n",
    "            \n",
    "\n",
    "a=mapping([\"p\", \"s\"])\n",
    "print(a)\n",
    "a=mapping([\"a\", \"b\",'c'])\n",
    "print(a)\n",
    "c=mapping([\"a\", \"v\", \"y\", \"z\"])\n",
    "print(c)"
   ]
  },
  {
   "cell_type": "code",
   "execution_count": null,
   "metadata": {},
   "outputs": [],
   "source": []
  },
  {
   "cell_type": "markdown",
   "metadata": {},
   "source": [
    "vow_replace(&quot;apples and bananas&quot;, &quot;u&quot;) ➞ &quot;upplus und bununus&quot;\n",
    "vow_replace(&quot;cheese casserole&quot;, &quot;o&quot;) ➞ &quot;chooso cossorolo&quot;\n",
    "vow_replace(&quot;stuffed jalapeno poppers&quot;, &quot;e&quot;)"
   ]
  },
  {
   "cell_type": "code",
   "execution_count": 63,
   "metadata": {},
   "outputs": [
    {
     "name": "stdout",
     "output_type": "stream",
     "text": [
      "chooso cossorolo\n",
      "upplus und bununus\n",
      "steffed jelepene peppers\n"
     ]
    }
   ],
   "source": [
    "def vow_replace(m,n):\n",
    "    string='aeiou'\n",
    "    for i in string:\n",
    "        if i in m:\n",
    "            m=m.replace(i,n)\n",
    "    return m\n",
    "\n",
    "a=vow_replace(\"cheese casserole\", \"o\")    \n",
    "print(a)\n",
    "b=vow_replace(\"apples and bananas\", \"u\")\n",
    "print(b)\n",
    "c=vow_replace(\"stuffed jalapeno poppers\", \"e\")\n",
    "print(c)"
   ]
  },
  {
   "cell_type": "markdown",
   "metadata": {},
   "source": [
    "Question5\n",
    "Create a function that takes a string as input and capitalizes a letter if its ASCII code is even\n",
    "and returns its lower case version if its ASCII code is odd."
   ]
  },
  {
   "cell_type": "code",
   "execution_count": 73,
   "metadata": {},
   "outputs": [
    {
     "name": "stdout",
     "output_type": "stream",
     "text": [
      "To Be oR NoT To Be!\n",
      "THe LiTTLe meRmaiD\n",
      "oH wHaT a BeauTiFuL moRNiNg.\n"
     ]
    }
   ],
   "source": [
    "def ascii_capitalize(n):\n",
    "    str1=''\n",
    "    for  i in n:\n",
    "        if ord(i)%2==0:\n",
    "            str1+=i.upper()\n",
    "        elif ord(i)%2==1:\n",
    "            str1+=i.lower()\n",
    "        else:\n",
    "            str1+=i\n",
    "    return str1\n",
    "        \n",
    "            \n",
    "        \n",
    "\n",
    "a=ascii_capitalize(\"to be or not to be!\")\n",
    "print(a)\n",
    "b=ascii_capitalize(\"THE LITTLE MERMAID\")\n",
    "print(b)\n",
    "c=ascii_capitalize(\"Oh what a beautiful morning.\")\n",
    "print(c)\n"
   ]
  },
  {
   "cell_type": "code",
   "execution_count": null,
   "metadata": {},
   "outputs": [],
   "source": []
  }
 ],
 "metadata": {
  "kernelspec": {
   "display_name": "Python 3",
   "language": "python",
   "name": "python3"
  },
  "language_info": {
   "codemirror_mode": {
    "name": "ipython",
    "version": 3
   },
   "file_extension": ".py",
   "mimetype": "text/x-python",
   "name": "python",
   "nbconvert_exporter": "python",
   "pygments_lexer": "ipython3",
   "version": "3.8.5"
  }
 },
 "nbformat": 4,
 "nbformat_minor": 4
}

{
 "cells": [
  {
   "cell_type": "markdown",
   "metadata": {},
   "source": [
    "Question 1:\n",
    "Write a program that calculates and prints the value according to the given formula:\n",
    "Q = Square root of [(2 * C * D)/H]\n",
    "Following are the fixed values of C and H:\n",
    "C is 50. H is 30."
   ]
  },
  {
   "cell_type": "code",
   "execution_count": 23,
   "metadata": {},
   "outputs": [
    {
     "name": "stdout",
     "output_type": "stream",
     "text": [
      "100,150,180\n",
      "18,22,24\n"
     ]
    }
   ],
   "source": [
    "import math\n",
    "class squroot:\n",
    "    C=500\n",
    "    H=30\n",
    "    def __init__(self,a):\n",
    "        self.a=a\n",
    "        \n",
    "    def squroot_values(self):\n",
    "        try:\n",
    "            lst=[]\n",
    "            for D in self.a:\n",
    "                lst.append(int(math.sqrt(2*squroot.C*int(D)/squroot.H)))\n",
    "            print(*lst, sep=',')\n",
    "              \n",
    "        except Exception as p:\n",
    "            print(p)\n",
    "obeject=squroot(input().split(','))\n",
    "obeject.squroot_values()\n",
    "            \n",
    "            "
   ]
  },
  {
   "cell_type": "code",
   "execution_count": 9,
   "metadata": {},
   "outputs": [],
   "source": [
    "lst=['18','22','24']"
   ]
  },
  {
   "cell_type": "code",
   "execution_count": 11,
   "metadata": {},
   "outputs": [
    {
     "name": "stdout",
     "output_type": "stream",
     "text": [
      "18,22,24\n"
     ]
    }
   ],
   "source": [
    "print(','.join(lst))"
   ]
  },
  {
   "cell_type": "markdown",
   "metadata": {},
   "source": [
    "Write a program which takes 2 digits, X,Y as input and generates a 2-dimensional array. The\n",
    "element value in the i-th row and j-th column of the array should be i*j."
   ]
  },
  {
   "cell_type": "code",
   "execution_count": 56,
   "metadata": {},
   "outputs": [
    {
     "name": "stdout",
     "output_type": "stream",
     "text": [
      "[[0, 0, 0, 0, 0], [0, 1, 2, 3, 4], [0, 2, 4, 6, 8]]\n"
     ]
    }
   ],
   "source": [
    "class Array:\n",
    "    def array_values(self,n,n1):\n",
    "        try:\n",
    "            lst1=[]\n",
    "            for i in range(3):\n",
    "                lst=[]\n",
    "                for j in range(5):\n",
    "                    lst.append(i*j)\n",
    "                lst1.append(lst)\n",
    "        except Exception as p:\n",
    "            print(p)\n",
    "        else:\n",
    "            print(lst1)\n",
    "\n",
    "a=Array() \n",
    "a.array_values(3,4)"
   ]
  },
  {
   "cell_type": "code",
   "execution_count": null,
   "metadata": {},
   "outputs": [],
   "source": [
    "Write a program that accepts a comma separated sequence of words as input and prints the\n",
    "words in a comma-separated sequence after sorting them alphabetically."
   ]
  },
  {
   "cell_type": "code",
   "execution_count": 65,
   "metadata": {},
   "outputs": [
    {
     "name": "stdout",
     "output_type": "stream",
     "text": [
      "without,hello,bag,world\n",
      "bag,hello,without,world\n"
     ]
    }
   ],
   "source": [
    "def comma_separated(string):\n",
    "    lst=[]\n",
    "    for i in string:\n",
    "        lst.append(i)\n",
    "    print(*sorted(lst),sep=',')\n",
    "    \n",
    "    \n",
    "string1=input().split(',')  \n",
    "comma_separated(string1)  "
   ]
  },
  {
   "cell_type": "markdown",
   "metadata": {},
   "source": [
    "Write a program that accepts a sequence of whitespace separated words as input and prints\n",
    "the words after removing all duplicate words and sorting them alphanumerically."
   ]
  },
  {
   "cell_type": "code",
   "execution_count": 68,
   "metadata": {},
   "outputs": [
    {
     "name": "stdout",
     "output_type": "stream",
     "text": [
      "hello world and practice makes perfect and hello world again\n",
      "again and hello makes perfect practice world\n"
     ]
    }
   ],
   "source": [
    "def white_space(string):\n",
    "    lst=[]\n",
    "    for i in string:\n",
    "        lst.append(i)\n",
    "    print(*sorted(set(lst)),sep=' ')\n",
    "    \n",
    "    \n",
    "string1=input().split()  \n",
    "white_space(string1) "
   ]
  },
  {
   "cell_type": "markdown",
   "metadata": {},
   "source": [
    "Write a program that accepts a sentence and calculate the number of letters and digits."
   ]
  },
  {
   "cell_type": "code",
   "execution_count": 82,
   "metadata": {},
   "outputs": [
    {
     "name": "stdout",
     "output_type": "stream",
     "text": [
      "LETTERS 10\n",
      "DIGIT 3\n"
     ]
    }
   ],
   "source": [
    "def counts(n):\n",
    "    alpha=0\n",
    "    digit=0\n",
    "    for i in n:\n",
    "        if i.isalpha():\n",
    "            alpha+=1\n",
    "        elif i.isdigit():\n",
    "            digit+=1\n",
    "    print('LETTERS',alpha)\n",
    "    print('DIGIT',digit)\n",
    "    \n",
    "        \n",
    "a=counts('hello world! 123')"
   ]
  },
  {
   "cell_type": "markdown",
   "metadata": {},
   "source": [
    "A website requires the users to input username and password to register. Write a program to\n",
    "check the validity of password input by users."
   ]
  },
  {
   "cell_type": "code",
   "execution_count": 101,
   "metadata": {},
   "outputs": [
    {
     "name": "stdout",
     "output_type": "stream",
     "text": [
      "Enter The username\n",
      "Sangamesh12@\n",
      "Username  is valid\n"
     ]
    }
   ],
   "source": [
    "import re\n",
    "un=input('Enter The username\\n')\n",
    "if re.search(r'^.*(?=.{8,})(?=.*\\d)(?=.*[a-z])(?=.*[A-Z])(?=.*[@#$%^&+=])',un):\n",
    "    print('Username  is valid')\n",
    "else:\n",
    "    print('Username not is valid')\n"
   ]
  },
  {
   "cell_type": "code",
   "execution_count": null,
   "metadata": {},
   "outputs": [],
   "source": []
  }
 ],
 "metadata": {
  "kernelspec": {
   "display_name": "Python 3",
   "language": "python",
   "name": "python3"
  },
  "language_info": {
   "codemirror_mode": {
    "name": "ipython",
    "version": 3
   },
   "file_extension": ".py",
   "mimetype": "text/x-python",
   "name": "python",
   "nbconvert_exporter": "python",
   "pygments_lexer": "ipython3",
   "version": "3.8.5"
  }
 },
 "nbformat": 4,
 "nbformat_minor": 4
}

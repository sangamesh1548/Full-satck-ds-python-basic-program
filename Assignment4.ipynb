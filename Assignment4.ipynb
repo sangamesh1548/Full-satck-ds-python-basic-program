{
 "cells": [
  {
   "cell_type": "markdown",
   "metadata": {},
   "source": [
    "1. Write a Python Program to Find the Factorial of a Number?"
   ]
  },
  {
   "cell_type": "code",
   "execution_count": 61,
   "metadata": {},
   "outputs": [
    {
     "name": "stdout",
     "output_type": "stream",
     "text": [
      "5\n",
      "120\n"
     ]
    }
   ],
   "source": [
    "a=int(input())\n",
    "if a>=1:\n",
    "    sum=1\n",
    "    for i in range(1,a+1):\n",
    "        sum=sum*i\n",
    "    print(sum)  \n",
    "else:\n",
    "    print(a)"
   ]
  },
  {
   "cell_type": "markdown",
   "metadata": {},
   "source": [
    "2. Write a Python Program to Display the multiplication Table?"
   ]
  },
  {
   "cell_type": "code",
   "execution_count": 74,
   "metadata": {},
   "outputs": [
    {
     "name": "stdout",
     "output_type": "stream",
     "text": [
      "5  x  1 =  5\n",
      "5  x  2 =  10\n",
      "5  x  3 =  15\n",
      "5  x  4 =  20\n",
      "5  x  5 =  25\n",
      "5  x  6 =  30\n",
      "5  x  7 =  35\n",
      "5  x  8 =  40\n",
      "5  x  9 =  45\n",
      "5  x  10 =  50\n"
     ]
    }
   ],
   "source": [
    "s=len([1,2,3,4,5])\n",
    "for i in range(1,11):\n",
    "    print(s,' x ', i,'= ',s*i)"
   ]
  },
  {
   "cell_type": "markdown",
   "metadata": {},
   "source": [
    "3. Write a Python Program to Print the Fibonacci sequence?"
   ]
  },
  {
   "cell_type": "code",
   "execution_count": 188,
   "metadata": {},
   "outputs": [
    {
     "name": "stdout",
     "output_type": "stream",
     "text": [
      "1000\n",
      "0\n",
      "0\n",
      "1\n",
      "1\n",
      "2\n",
      "3\n",
      "5\n",
      "8\n",
      "13\n",
      "21\n",
      "34\n",
      "55\n",
      "89\n",
      "144\n",
      "233\n",
      "377\n",
      "610\n",
      "987\n"
     ]
    }
   ],
   "source": [
    "def fun(n):\n",
    "    a=0\n",
    "    b=1\n",
    "    print(a)\n",
    "    for i in range(n):\n",
    "        if a>n:\n",
    "            break\n",
    "        else:\n",
    "            a,b=a+b,a\n",
    "            print(b)\n",
    "            \n",
    "            \n",
    "        \n",
    "            \n",
    "a=int(input())        \n",
    "fun(a)"
   ]
  },
  {
   "cell_type": "markdown",
   "metadata": {},
   "source": [
    "4. Write a Python Program to Check Armstrong Number?"
   ]
  },
  {
   "cell_type": "code",
   "execution_count": 69,
   "metadata": {},
   "outputs": [
    {
     "name": "stdout",
     "output_type": "stream",
     "text": [
      "Enter the number153\n",
      "153 Armstrong number\n"
     ]
    }
   ],
   "source": [
    "num=input('Enter the number')\n",
    "n=len(num)\n",
    "sum=0\n",
    "for i in num:\n",
    "    sum+=int(i)**n\n",
    "if sum==int(num):\n",
    "    print(sum,'Armstrong number')\n",
    "else:\n",
    "    print(sum,'not Armstrong number')"
   ]
  },
  {
   "cell_type": "markdown",
   "metadata": {},
   "source": [
    "5. Write a Python Program to Find Armstrong Number in an Interval?"
   ]
  },
  {
   "cell_type": "code",
   "execution_count": 117,
   "metadata": {},
   "outputs": [
    {
     "name": "stdout",
     "output_type": "stream",
     "text": [
      "Enter lower range: 1\n",
      "Enter upper range: 1000\n",
      "1 arm strong\n",
      "64 arm strong\n",
      "125 arm strong\n",
      "153 arm strong\n",
      "216 arm strong\n",
      "370 arm strong\n",
      "371 arm strong\n",
      "407 arm strong\n",
      "729 arm strong\n"
     ]
    }
   ],
   "source": [
    "num1 = int(input(\"Enter lower range: \"))  \n",
    "num2 = int(input(\"Enter upper range: \"))  \n",
    "  \n",
    "for num in range(num1,num2 + 1):  \n",
    "    sum = 0  \n",
    "    temp = num \n",
    "    while temp > 0:  \n",
    "        digit = temp % 10 \n",
    "        sum += digit ** 3  \n",
    "        temp //= 10  \n",
    "\n",
    "        if num == sum:  \n",
    "            print(num,'arm strong')     "
   ]
  },
  {
   "cell_type": "markdown",
   "metadata": {},
   "source": [
    "6. Write a Python Program to Find the Sum of Natural Numbers?"
   ]
  },
  {
   "cell_type": "code",
   "execution_count": 101,
   "metadata": {},
   "outputs": [
    {
     "name": "stdout",
     "output_type": "stream",
     "text": [
      "enter the number:1 2 3\n",
      "6\n"
     ]
    }
   ],
   "source": [
    "num=input('enter the number:').split()\n",
    "sum=0\n",
    "for i in num:\n",
    "    if int(i)>=1:\n",
    "        sum+=int(i)\n",
    "print(sum)\n",
    "    "
   ]
  },
  {
   "cell_type": "code",
   "execution_count": null,
   "metadata": {},
   "outputs": [],
   "source": []
  }
 ],
 "metadata": {
  "kernelspec": {
   "display_name": "Python 3",
   "language": "python",
   "name": "python3"
  },
  "language_info": {
   "codemirror_mode": {
    "name": "ipython",
    "version": 3
   },
   "file_extension": ".py",
   "mimetype": "text/x-python",
   "name": "python",
   "nbconvert_exporter": "python",
   "pygments_lexer": "ipython3",
   "version": "3.8.5"
  }
 },
 "nbformat": 4,
 "nbformat_minor": 4
}

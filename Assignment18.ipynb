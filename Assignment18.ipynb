{
 "cells": [
  {
   "cell_type": "markdown",
   "metadata": {},
   "source": [
    "Create a function that takes a list of non-negative integers and strings and return a new list\n",
    "without the strings."
   ]
  },
  {
   "cell_type": "code",
   "execution_count": 9,
   "metadata": {},
   "outputs": [
    {
     "name": "stdout",
     "output_type": "stream",
     "text": [
      "[1, 2]\n",
      "[1, 5, 2]\n",
      "[5, 4]\n"
     ]
    }
   ],
   "source": [
    "def filter_list(n):\n",
    "    lst=[]\n",
    "    for i in n:\n",
    "        if type(i)==int:\n",
    "            lst.append(i)\n",
    "    return lst\n",
    "\n",
    "a=filter_list([1, 2, \"a\", \"b\"])\n",
    "print(a)\n",
    "a=filter_list([1, 5, \"c\", \"s\",'5','jbdb',2])\n",
    "print(a)\n",
    "a=filter_list(['djdb','sknkdn','sllsn',5,4,'kndkn'])\n",
    "print(a)"
   ]
  },
  {
   "cell_type": "markdown",
   "metadata": {},
   "source": [
    "The &quot;Reverser&quot; takes a string as input and returns that string in reverse order, with the\n",
    "opposite case."
   ]
  },
  {
   "cell_type": "code",
   "execution_count": 74,
   "metadata": {},
   "outputs": [
    {
     "name": "stdout",
     "output_type": "stream",
     "text": [
      "DLROw OLLEh \n",
      "eSrEvEr \n",
      "RADAr \n"
     ]
    }
   ],
   "source": [
    "def reverse_1(n):\n",
    "    num=0\n",
    "    string1=' '\n",
    "    while num<len(n):\n",
    "        if n[num].islower():\n",
    "            string1+=n[num].upper()\n",
    "        elif n[num].isupper():\n",
    "            string1+=n[num].lower()\n",
    "        else:\n",
    "            string1+=n[num]\n",
    "        num+=1\n",
    "    return string1[::-1]\n",
    "       \n",
    "\n",
    "        \n",
    "    \n",
    "a=reverse_1('Hello World')\n",
    "print(a)\n",
    "    \n",
    "b=reverse_1('ReVeRsE')\n",
    "print(b)\n",
    "\n",
    "c=reverse_1('Radar')\n",
    "print(c)"
   ]
  },
  {
   "cell_type": "markdown",
   "metadata": {},
   "source": [
    "Question 3\n",
    "You can assign variables from lists like this:\n",
    "lst = [1, 2, 3, 4, 5, 6]\n",
    "first = lst[0]\n",
    "middle = lst[1:-1]\n",
    "last = lst[-1]\n",
    "print(first) ➞ outputs 1\n",
    "print(middle) ➞ outputs [2, 3, 4, 5]\n",
    "print(last) ➞ outputs 6\n",
    "With Python 3, you can assign variables from lists in a much more succinct way. Create\n",
    "variables first, middle and last from the given list using destructuring assignment\n",
    "(check the Resources tab for some examples), where:"
   ]
  },
  {
   "cell_type": "code",
   "execution_count": 84,
   "metadata": {},
   "outputs": [
    {
     "name": "stdout",
     "output_type": "stream",
     "text": [
      "First -> 1\n",
      "Middle -> [2, 3, 4, 5]\n",
      "Last -> 6\n"
     ]
    }
   ],
   "source": [
    "def name_prin(lst):\n",
    "    print('First ->',lst[0])\n",
    "    print('Middle ->',lst[1:-1:])\n",
    "    print('Last ->',lst[-1])\n",
    "    \n",
    "    \n",
    "\n",
    "\n",
    "name_prin(lst = [1, 2, 3, 4, 5, 6])"
   ]
  },
  {
   "cell_type": "markdown",
   "metadata": {},
   "source": [
    "Write a function that calculates the factorial of a number recursively."
   ]
  },
  {
   "cell_type": "code",
   "execution_count": 83,
   "metadata": {},
   "outputs": [
    {
     "name": "stdout",
     "output_type": "stream",
     "text": [
      "120\n",
      "6\n",
      "1\n",
      "1\n"
     ]
    }
   ],
   "source": [
    "def factorial(n):\n",
    "        if n==0:\n",
    "            return 1\n",
    "        elif n==1:\n",
    "            return 1\n",
    "        else:\n",
    "            return (n * factorial(n - 1))\n",
    "        \n",
    "\n",
    "a=factorial(5)\n",
    "print(a)\n",
    "       \n",
    "b=factorial(3)\n",
    "print(b)\n",
    "       \n",
    "c=factorial(1)\n",
    "print(c)\n",
    "       \n",
    "d=factorial(0)\n",
    "print(d)"
   ]
  },
  {
   "cell_type": "markdown",
   "metadata": {},
   "source": [
    "Write a function that moves all elements of one type to the end of the list."
   ]
  },
  {
   "cell_type": "code",
   "execution_count": 67,
   "metadata": {},
   "outputs": [
    {
     "name": "stdout",
     "output_type": "stream",
     "text": [
      "9\n",
      "[7, 8, 1, 2, 3, 4, 9]\n",
      "1\n",
      "[3, 2, 4, 4, 1, 1]\n",
      "a\n",
      "['a', 'a', 'b', 'a']\n"
     ]
    }
   ],
   "source": [
    "from collections import deque as dq\n",
    "def move_to_end1(lst):\n",
    "    for i in range(len(lst)):\n",
    "        if type(lst[i])==int:\n",
    "            element=lst.index(int(input()))\n",
    "            element2=lst.pop(element)\n",
    "            lst.append(element2)\n",
    "        elif type(lst[i])==str:\n",
    "            element=lst.index(input())\n",
    "            element2=lst.pop(element)\n",
    "            lst.append(element2)\n",
    "        return lst\n",
    "        \n",
    "            \n",
    "            \n",
    "    \n",
    "    \n",
    "\n",
    "    \n",
    "a=move_to_end1([7, 8, 9, 1, 2, 3, 4])\n",
    "print(a)\n",
    "b=move_to_end1([1,3,2,4,4,1])\n",
    "print(b)\n",
    "b=move_to_end1([\"a\", \"a\", \"a\",\"b\"])\n",
    "print(b)"
   ]
  },
  {
   "cell_type": "code",
   "execution_count": null,
   "metadata": {},
   "outputs": [],
   "source": []
  },
  {
   "cell_type": "code",
   "execution_count": null,
   "metadata": {},
   "outputs": [],
   "source": []
  },
  {
   "cell_type": "code",
   "execution_count": null,
   "metadata": {},
   "outputs": [],
   "source": []
  },
  {
   "cell_type": "code",
   "execution_count": null,
   "metadata": {},
   "outputs": [],
   "source": []
  }
 ],
 "metadata": {
  "kernelspec": {
   "display_name": "Python 3",
   "language": "python",
   "name": "python3"
  },
  "language_info": {
   "codemirror_mode": {
    "name": "ipython",
    "version": 3
   },
   "file_extension": ".py",
   "mimetype": "text/x-python",
   "name": "python",
   "nbconvert_exporter": "python",
   "pygments_lexer": "ipython3",
   "version": "3.8.5"
  }
 },
 "nbformat": 4,
 "nbformat_minor": 4
}

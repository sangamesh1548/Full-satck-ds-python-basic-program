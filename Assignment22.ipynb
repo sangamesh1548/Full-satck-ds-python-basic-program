{
 "cells": [
  {
   "cell_type": "markdown",
   "metadata": {},
   "source": [
    "Question1\n",
    "Create a function that takes three parameters where:\n",
    " x is the start of the range (inclusive).\n",
    " y is the end of the range (inclusive).\n",
    " n is the divisor to be checked against.\n",
    "Return an ordered list with numbers in the range that are divisible by the third parameter n.\n",
    "Return an empty list if there are no numbers that are divisible by n."
   ]
  },
  {
   "cell_type": "code",
   "execution_count": 72,
   "metadata": {},
   "outputs": [
    {
     "name": "stdout",
     "output_type": "stream",
     "text": [
      "[3, 6, 9]\n",
      "[8]\n",
      "[]\n"
     ]
    }
   ],
   "source": [
    "def list_operation(a,b,c):\n",
    "    lst=[]\n",
    "    for i in range(a,b+1):\n",
    "        if i%c==0:\n",
    "            lst.append(i)\n",
    "    return lst\n",
    "        \n",
    "        \n",
    "\n",
    "\n",
    "a=list_operation(1, 10, 3) \n",
    "print(a)\n",
    "a=list_operation(7,9,2) \n",
    "print(a)\n",
    "a=list_operation(15,20,7) \n",
    "print(a)"
   ]
  },
  {
   "cell_type": "markdown",
   "metadata": {},
   "source": [
    "Create a function that takes in two lists and returns True if the second list follows the first list\n",
    "by one element, and False otherwise. In other words, determine if the second list is the first\n",
    "list shifted to the right by 1\n"
   ]
  },
  {
   "cell_type": "code",
   "execution_count": 10,
   "metadata": {},
   "outputs": [
    {
     "name": "stdout",
     "output_type": "stream",
     "text": [
      "True\n",
      "False\n",
      "True\n",
      "True\n"
     ]
    }
   ],
   "source": [
    "def simon_says(a,b):\n",
    "    for j in a:\n",
    "        if len(a)==len(b):\n",
    "            if j  in b:\n",
    "                return True\n",
    "            else:\n",
    "                return False\n",
    "        \n",
    "a=simon_says([1, 2], [5, 1])\n",
    "print(a)\n",
    "b=simon_says([1, 2], [5, 5])\n",
    "print(b)\n",
    "c=simon_says([1, 2, 3, 4, 5], [0, 1, 2, 3, 4])\n",
    "print(c)\n",
    "d=simon_says([1, 2, 3, 4, 5], [5, 5, 1, 2, 3])\n",
    "print(d)"
   ]
  },
  {
   "cell_type": "markdown",
   "metadata": {},
   "source": [
    "Question3\n",
    "A group of friends have decided to start a secret society. The name will be the first letter of\n",
    "each of their names, sorted in alphabetical order.\n",
    "Create a function that takes in a list of names and returns the name of the secret society."
   ]
  },
  {
   "cell_type": "code",
   "execution_count": 110,
   "metadata": {},
   "outputs": [
    {
     "name": "stdout",
     "output_type": "stream",
     "text": [
      "AMS\n",
      "CHLN\n"
     ]
    }
   ],
   "source": [
    "def society_name(n):\n",
    "    lst=[i[0] for i in n] \n",
    "    s=''\n",
    "    for i in sorted(lst):\n",
    "        s+=i\n",
    "    return s\n",
    "    \n",
    "    \n",
    "\n",
    "\n",
    "a=society_name([\"Adam\", \"Sarah\", \"Malcolm\"])\n",
    "print(a)\n",
    "\n",
    "b=society_name([\"Harry\", \"Newt\", \"Luna\", \"Cho\"])\n",
    "print(b)"
   ]
  },
  {
   "cell_type": "markdown",
   "metadata": {},
   "source": [
    "Question4\n",
    "An isogram is a word that has no duplicate letters. Create a function that takes a string and\n",
    "returns either True or False depending on whether or not it&#39;s an &quot;isogram&quot;."
   ]
  },
  {
   "cell_type": "code",
   "execution_count": 208,
   "metadata": {},
   "outputs": [
    {
     "name": "stdout",
     "output_type": "stream",
     "text": [
      "True\n",
      "False\n",
      "False\n"
     ]
    }
   ],
   "source": [
    "def is_isogram(word):\n",
    "    if len(word)==len(set(word.lower())):\n",
    "        return True\n",
    "    else:\n",
    "        return False\n",
    "    \n",
    "\n",
    "\n",
    "a=is_isogram('Machine')\n",
    "print(a)\n",
    "b=is_isogram('PasSword')\n",
    "print(b)\n",
    "c=is_isogram('Consecutive')\n",
    "print(c)"
   ]
  },
  {
   "cell_type": "markdown",
   "metadata": {},
   "source": [
    "Question5\n",
    "Create a function that takes a string and returns True or False, depending on whether the\n",
    "characters are in order or not."
   ]
  },
  {
   "cell_type": "code",
   "execution_count": 222,
   "metadata": {},
   "outputs": [
    {
     "name": "stdout",
     "output_type": "stream",
     "text": [
      "True\n",
      "False\n",
      "True\n",
      "True\n"
     ]
    }
   ],
   "source": [
    "def is_order(a):\n",
    "    str1=''\n",
    "    for i in sorted(a):\n",
    "        str1+=i\n",
    "    if str1==a:\n",
    "        return True\n",
    "    else:\n",
    "        return False\n",
    "        \n",
    "a=is_order('abc')\n",
    "print(a)\n",
    "b=is_order('edabit')\n",
    "print(b)\n",
    "c=is_order('123')\n",
    "print(c)\n",
    "d=is_order('xyzz')\n",
    "print(d)"
   ]
  },
  {
   "cell_type": "code",
   "execution_count": null,
   "metadata": {},
   "outputs": [],
   "source": []
  }
 ],
 "metadata": {
  "kernelspec": {
   "display_name": "Python 3",
   "language": "python",
   "name": "python3"
  },
  "language_info": {
   "codemirror_mode": {
    "name": "ipython",
    "version": 3
   },
   "file_extension": ".py",
   "mimetype": "text/x-python",
   "name": "python",
   "nbconvert_exporter": "python",
   "pygments_lexer": "ipython3",
   "version": "3.8.5"
  }
 },
 "nbformat": 4,
 "nbformat_minor": 4
}
